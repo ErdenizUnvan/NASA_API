{
 "cells": [
  {
   "cell_type": "code",
   "execution_count": null,
   "id": "d59ebb4d",
   "metadata": {},
   "outputs": [],
   "source": [
    "#Please visit https://api.nasa.gov/ for getting a new api key"
   ]
  },
  {
   "cell_type": "code",
   "execution_count": null,
   "id": "bdeef4d8",
   "metadata": {
    "scrolled": true
   },
   "outputs": [],
   "source": [
    "from IPython.display import Image\n",
    "import urllib3\n",
    "import requests\n",
    "import time\n",
    "import keyboard\n",
    "import warnings\n",
    "warnings.filterwarnings('ignore')\n",
    "urllib3.disable_warnings(urllib3.exceptions.InsecureRequestWarning)\n",
    "get_ipython().magic(u'matplotlib inline') \n",
    "#At data visualization we use %matplotlib inline command to make sure\n",
    "#that the graphic we will create will not oversize the cell of jupyter notebook\n",
    "#Here we use this command to make sure that the photo will not oversize the cell of jupyter notebook\n",
    "print('Press Space to start the program or ESC to quit')\n",
    "while True:\n",
    "    if keyboard.is_pressed('Esc'):\n",
    "        print('Goodbye')\n",
    "        break\n",
    "    elif keyboard.is_pressed('SPACE'):\n",
    "        print('We proceed')\n",
    "        try:\n",
    "            date = input('Write the date as 4 digits Year- 2 Digits Month- 2 Digits Day: ')\n",
    "            if date[:4].isdigit() and date[4]=='-' and date[5:7].isdigit() and date[7]=='-' and date[8:10].isdigit() and len(date) ==10:\n",
    "\n",
    "                url ='https://api.nasa.gov/mars-photos/api/v1/rovers/curiosity/photos'\n",
    "                apikey='puVie6M8fiAI3YKk4bGf4epjrjgfQlJmrnBIzzTC'\n",
    "                query_params ={'api_key':apikey,'earth_date':date}\n",
    "                response= requests.get(url,params=query_params,verify=False)\n",
    "                photos = response.json()['photos']\n",
    "                if len(photos) == 0:\n",
    "                    raise ValueError('There are no photos for the requested date')\n",
    "\n",
    "                else:\n",
    "                    print(f'''\n",
    "                          Date :{date[8:10]}\n",
    "                          Month :{date[5:7]}\n",
    "                          Year :{date[:4]}\n",
    "                          Number Of Photo Taken: {len(photos)}\n",
    "                          ''')\n",
    "                    photo_number = input(f'Please choose a number between 1 and {len(photos)}: ')\n",
    "                    if not photo_number.isdigit() or int(photo_number) > (len(photos)) or int(photo_number) <0:\n",
    "                        raise ValueError('The choosen number for photo does not exist!')\n",
    "                    photo_number=int(photo_number)-1  \n",
    "            else:\n",
    "                raise ValueError('Date typed does not match with the requirements of the NASA API')\n",
    "\n",
    "        except Exception as e:\n",
    "            print(f'There is an error :{e}')\n",
    "            print('Press Space to continue the program or ESC to quit')\n",
    "            if keyboard.is_pressed('Esc'):\n",
    "                print('Goodbye')\n",
    "                break\n",
    "            elif keyboard.is_pressed('SPACE'):\n",
    "                print('We continue')\n",
    "               \n",
    "        else:\n",
    "            display(Image(photos[photo_number]['img_src']))\n",
    "            p = requests.get(photos[photo_number]['img_src'])\n",
    "            with open(f'{date[8:10]}_{date[5:7]}_{date[:4]}_{photo_number+1}.jpg','wb') as f:\n",
    "                f.write(p.content)\n",
    "            #Without a loop just an Image function is enough\n",
    "            #but within a loop, you must make sure to force it by display function\n",
    "            break\n"
   ]
  },
  {
   "cell_type": "code",
   "execution_count": null,
   "id": "3eaeb1dc",
   "metadata": {},
   "outputs": [],
   "source": [
    " "
   ]
  }
 ],
 "metadata": {
  "kernelspec": {
   "display_name": "Python 3 (ipykernel)",
   "language": "python",
   "name": "python3"
  },
  "language_info": {
   "codemirror_mode": {
    "name": "ipython",
    "version": 3
   },
   "file_extension": ".py",
   "mimetype": "text/x-python",
   "name": "python",
   "nbconvert_exporter": "python",
   "pygments_lexer": "ipython3",
   "version": "3.9.7"
  }
 },
 "nbformat": 4,
 "nbformat_minor": 5
}
